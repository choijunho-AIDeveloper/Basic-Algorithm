{
 "cells": [
  {
   "cell_type": "markdown",
   "metadata": {},
   "source": [
    "### 해쉬\n",
    "- 키(Key), 값(Value) 쌍으로 이루어진 데이터 구조\n",
    "- Key를 이용해 데이터를 찾으므로 속도가 빠름\n",
    "- 미리 해쉬 테이블을 만들어 사용하기 때문에 공간을 많이 차지하지만, 시간이 빠름\n",
    "- 장점\n",
    "    - 데이터 저장/검색 속도가 빠름\n",
    "    - 해쉬는 키에 대한 데이터가 있는지 확인이 쉬움(중복 확인 시 필요)\n",
    "- 단점\n",
    "    - 저장공간이 많이 필요\n",
    "    - 여러 키에 해당하는 주소가 동일한 경우 충돌을 해결할 별도 알고리즘 필요\n",
    "- 시간 복잡도\n",
    "    - 일반적인 경우(충돌이 없는 경우) : O(1)\n",
    "    - 최악의 경우(모든 경우에 충돌이 발생하는 경우) : O(n)\n",
    "\n",
    "#### Keyword\n",
    "- 해쉬(Hash) : 임의 값을 고정 길이로 변환하는 것\n",
    "- 해쉬 함수(Hash Function) : 특정 연산을 이용하여 키 값을 받아서 Value를 가진 공간의 주소로 바꾸어주는 함수\n",
    "- 해쉬 테이블(Hash Table) : 해쉬 구조를 사용하는 데이터 구조\n",
    "- 해쉬 값(해쉬 주소, Hash Value) : Key값을 해쉬 함수에 넣어서 얻은 주소값(이 값을 통해 Slot을 찾아감)\n",
    "- 슬롯(Slot) : 한 개의 데이터를 저장할 수 있는 공간\n",
    "#### URL : https://davinci-ai.tistory.com/19"
   ]
  },
  {
   "cell_type": "markdown",
   "metadata": {},
   "source": [
    "### 해쉬 함수와 키 생성 함수\n",
    "#### import hashlib(파이썬 내장 함수)"
   ]
  },
  {
   "cell_type": "code",
   "execution_count": 1,
   "metadata": {},
   "outputs": [],
   "source": [
    "import hashlib"
   ]
  },
  {
   "cell_type": "markdown",
   "metadata": {},
   "source": [
    "#### SHA-1\n",
    "- 해쉬값의 크기를 160으로 고정"
   ]
  },
  {
   "cell_type": "code",
   "execution_count": 4,
   "metadata": {},
   "outputs": [
    {
     "data": {
      "text/plain": [
       "'a94a8fe5ccb19ba61c4c0873d391e987982fbbd3'"
      ]
     },
     "execution_count": 4,
     "metadata": {},
     "output_type": "execute_result"
    }
   ],
   "source": [
    "data1 = 'test'.encode()\n",
    "hash_obj1 = hashlib.sha1()\n",
    "hash_obj1.update(data1)\n",
    "hex_deg1 = hash_obj1.hexdigest()\n",
    "hex_deg1"
   ]
  },
  {
   "cell_type": "markdown",
   "metadata": {},
   "source": [
    "#### SHA-256\n",
    "- 해쉬값의 크기를 256으로 늘림(보안성)"
   ]
  },
  {
   "cell_type": "code",
   "execution_count": 5,
   "metadata": {},
   "outputs": [
    {
     "data": {
      "text/plain": [
       "'b94d27b9934d3e08a52e52d7da7dabfac484efe37a5380ee9088f7ace2efcde9'"
      ]
     },
     "execution_count": 5,
     "metadata": {},
     "output_type": "execute_result"
    }
   ],
   "source": [
    "data2 = 'hello world'.encode()\n",
    "hash_obj2 = hashlib.sha256()\n",
    "hash_obj2.update(data2)\n",
    "hex_deg2 = hash_obj2.hexdigest()\n",
    "hex_deg2"
   ]
  },
  {
   "cell_type": "markdown",
   "metadata": {},
   "source": [
    "#### 리스트로 해쉬 테이블 만들기\n",
    "1. 입력(Key&Value Dictionary) \n",
    "\n",
    "2. Hash(Key) - Hash() : 해쉬 함수\n",
    "\n",
    "3. Hash(Key) => Hash Value\n",
    "\n",
    "4. Origin Value + Hash Value => Hash Value"
   ]
  },
  {
   "cell_type": "code",
   "execution_count": 18,
   "metadata": {},
   "outputs": [],
   "source": [
    "class HashTable:\n",
    "    def __init__(self):\n",
    "        self.key_num = 8\n",
    "        self.hash_table = [0] * self.key_num\n",
    "\n",
    "    def hash_function(self, key):\n",
    "        return key % 8\n",
    "    \n",
    "    def update(self, key, value):\n",
    "        hash_value = self.hash_function(hash(key))\n",
    "        self.hash_table[hash_value] = value\n",
    "\n",
    "    def read(self, key):\n",
    "        hash_value = self.hash_function(hash(key))\n",
    "        return self.hash_table[hash_value]\n",
    "    \n",
    "    def init_table(self):\n",
    "        self.hash_table = [0] * self.key_num\n",
    "\n",
    "    def print_table(self):\n",
    "        return self.hash_table"
   ]
  },
  {
   "cell_type": "code",
   "execution_count": 22,
   "metadata": {},
   "outputs": [
    {
     "name": "stdout",
     "output_type": "stream",
     "text": [
      "Key 1 match Value : 6\n",
      "Print Table : [0, 6, 'b', 'junho', 0, 0, 0, 0]\n"
     ]
    }
   ],
   "source": [
    "table = HashTable()\n",
    "\n",
    "table.update(1, 6)\n",
    "table.update(2, 'b')\n",
    "table.update('name', 'junho')\n",
    "\n",
    "print(f\"Key 1 match Value : {table.read(1)}\")\n",
    "print(f\"Print Table : {table.print_table()}\")"
   ]
  },
  {
   "cell_type": "markdown",
   "metadata": {},
   "source": [
    "#### 충돌 상황\n",
    "('name', 'junho')를 삭제를 하지 않았음에도 (3, 'c') 쌍이 들어가 'name' Key가 사라짐"
   ]
  },
  {
   "cell_type": "code",
   "execution_count": 26,
   "metadata": {},
   "outputs": [
    {
     "name": "stdout",
     "output_type": "stream",
     "text": [
      "Origin Table : [0, 'a', 0, 'junho', 0, 0, 0, 0]\n",
      "Remove Key 'name' : [0, 'a', 'b', 'c', 0, 0, 0, 0]\n"
     ]
    }
   ],
   "source": [
    "table.init_table()\n",
    "\n",
    "table.update(1, 'a')\n",
    "table.update('name', 'junho')\n",
    "print(f\"Origin Table : {table.print_table()}\")\n",
    "table.update(2, 'b')\n",
    "table.update(3, 'c')\n",
    "print(f\"Remove Key 'name' : {table.print_table()}\")"
   ]
  },
  {
   "cell_type": "code",
   "execution_count": null,
   "metadata": {},
   "outputs": [],
   "source": []
  }
 ],
 "metadata": {
  "kernelspec": {
   "display_name": "torch",
   "language": "python",
   "name": "python3"
  },
  "language_info": {
   "codemirror_mode": {
    "name": "ipython",
    "version": 3
   },
   "file_extension": ".py",
   "mimetype": "text/x-python",
   "name": "python",
   "nbconvert_exporter": "python",
   "pygments_lexer": "ipython3",
   "version": "3.11.10"
  }
 },
 "nbformat": 4,
 "nbformat_minor": 2
}
